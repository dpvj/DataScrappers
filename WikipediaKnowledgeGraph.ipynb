{
 "cells": [
  {
   "cell_type": "code",
   "execution_count": 3,
   "metadata": {},
   "outputs": [
    {
     "name": "stdout",
     "output_type": "stream",
     "text": [
      "Collecting networkx\n",
      "  Downloading networkx-3.0-py3-none-any.whl (2.0 MB)\n",
      "     ---------------------------------------- 2.0/2.0 MB 1.3 MB/s eta 0:00:00\n",
      "Installing collected packages: networkx\n",
      "Successfully installed networkx-3.0\n"
     ]
    }
   ],
   "source": [
    "!pip install networkx"
   ]
  },
  {
   "cell_type": "code",
   "execution_count": 1,
   "metadata": {},
   "outputs": [],
   "source": [
    "import wikipedia as wp\n",
    "\n",
    "ds = wp.page(\"data science\")\n"
   ]
  },
  {
   "cell_type": "code",
   "execution_count": 17,
   "metadata": {},
   "outputs": [],
   "source": [
    "#@title\n",
    "# Data manipulation\n",
    "import pandas as pd\n",
    "import random\n",
    "\n",
    "# Wikipedia API\n",
    "import wikipedia as wp\n",
    "from wikipedia.exceptions import DisambiguationError, PageError\n",
    "\n",
    "# Plotting\n",
    "import networkx as nx\n",
    "import matplotlib.pyplot as plt\n"
   ]
  },
  {
   "cell_type": "code",
   "execution_count": 2,
   "metadata": {},
   "outputs": [
    {
     "data": {
      "text/plain": [
       "<WikipediaPage 'Data science'>"
      ]
     },
     "execution_count": 2,
     "metadata": {},
     "output_type": "execute_result"
    }
   ],
   "source": [
    "ds"
   ]
  },
  {
   "cell_type": "code",
   "execution_count": 4,
   "metadata": {},
   "outputs": [
    {
     "name": "stdout",
     "output_type": "stream",
     "text": [
      "Data science is an interdisciplinary academic field \n",
      "that uses statistics, scientific computing, sci\n"
     ]
    }
   ],
   "source": [
    "print(wp.summary(\"data science\")[:100])"
   ]
  },
  {
   "cell_type": "code",
   "execution_count": 6,
   "metadata": {},
   "outputs": [
    {
     "data": {
      "text/plain": [
       "['Academic discipline',\n",
       " 'Algorithm',\n",
       " 'American Statistical Association',\n",
       " 'Analysis',\n",
       " 'Andrew Gelman',\n",
       " 'Astronomical survey',\n",
       " 'Basic research',\n",
       " 'Ben Fry',\n",
       " 'Big data',\n",
       " 'Boston',\n",
       " 'Boston Globe',\n",
       " 'Business',\n",
       " 'Buzzword',\n",
       " 'C. F. Jeff Wu',\n",
       " 'Columbia University',\n",
       " 'Comet NEOWISE',\n",
       " 'Committee on Data for Science and Technology',\n",
       " 'Communication',\n",
       " 'Complex systems',\n",
       " 'Computational science',\n",
       " 'Computer science',\n",
       " 'DJ Patil',\n",
       " 'Data',\n",
       " 'Data (computing)',\n",
       " 'Data analysis',\n",
       " 'Data archaeology',\n",
       " 'Data augmentation',\n",
       " 'Data cleansing',\n",
       " 'Data collection',\n",
       " 'Data compression',\n",
       " 'Data corruption',\n",
       " 'Data curation',\n",
       " 'Data degradation',\n",
       " 'Data editing',\n",
       " 'Data extraction',\n",
       " 'Data farming',\n",
       " 'Data format management',\n",
       " 'Data fusion',\n",
       " 'Data integration',\n",
       " 'Data integrity',\n",
       " 'Data library',\n",
       " 'Data lineage',\n",
       " 'Data loading',\n",
       " 'Data loss',\n",
       " 'Data management',\n",
       " 'Data migration',\n",
       " 'Data mining',\n",
       " 'Data philanthropy',\n",
       " 'Data pre-processing',\n",
       " 'Data preservation',\n",
       " 'Data publishing',\n",
       " 'Data quality',\n",
       " 'Data recovery',\n",
       " 'Data reduction',\n",
       " 'Data retention',\n",
       " 'Data scraping',\n",
       " 'Data scrubbing',\n",
       " 'Data security',\n",
       " 'Data set',\n",
       " 'Data sonification',\n",
       " 'Data steward',\n",
       " 'Data storage',\n",
       " 'Data transformation',\n",
       " 'Data validation',\n",
       " 'Data visualization',\n",
       " 'Data warehouse',\n",
       " 'Data wrangling',\n",
       " 'Database',\n",
       " 'David Donoho',\n",
       " 'Distributed computing',\n",
       " 'Doi (identifier)',\n",
       " 'Domain knowledge',\n",
       " 'Empirical research',\n",
       " 'Exploration',\n",
       " 'Extract, load, transform',\n",
       " 'Extract, transform, load',\n",
       " 'Graphic design',\n",
       " 'Harvard Business Review',\n",
       " 'Human–computer interaction',\n",
       " 'ISBN (identifier)',\n",
       " 'ISSN (identifier)',\n",
       " 'Informatics',\n",
       " 'Information explosion',\n",
       " 'Information privacy',\n",
       " 'Information science',\n",
       " 'Information technology',\n",
       " 'Information visualization',\n",
       " 'Interdisciplinarity',\n",
       " 'Interdisciplinary',\n",
       " 'Jeff Hammerbacher',\n",
       " 'Jim Gray (computer scientist)',\n",
       " 'John Tukey',\n",
       " 'Knowledge',\n",
       " 'Machine learning',\n",
       " 'Mathematics',\n",
       " 'Montpellier 2 University',\n",
       " 'Nate Silver',\n",
       " 'Nathan Yau',\n",
       " 'National Science Board',\n",
       " 'New York City',\n",
       " 'New York Times',\n",
       " 'OCLC (identifier)',\n",
       " 'ODSC',\n",
       " 'PMID (identifier)',\n",
       " 'Peter Naur',\n",
       " 'Phenomena',\n",
       " 'Problem solving',\n",
       " 'S2CID (identifier)',\n",
       " 'Scientific Data (journal)',\n",
       " 'Scientific computing',\n",
       " 'Scientific method',\n",
       " 'Space telescope',\n",
       " 'Statistics',\n",
       " 'Thomas H. Davenport',\n",
       " 'Turing Award',\n",
       " 'Unstructured data',\n",
       " 'Vasant Dhar',\n",
       " 'Wide-field Infrared Survey Explorer',\n",
       " 'William S. Cleveland',\n",
       " 'Women in Data']"
      ]
     },
     "execution_count": 6,
     "metadata": {},
     "output_type": "execute_result"
    }
   ],
   "source": [
    "wp.page(\"data science\").links"
   ]
  },
  {
   "cell_type": "code",
   "execution_count": 28,
   "metadata": {},
   "outputs": [
    {
     "data": {
      "text/plain": [
       "{'Academic discipline',\n",
       " 'Algorithm',\n",
       " 'American Statistical Association',\n",
       " 'Analysis',\n",
       " 'Andrew Gelman',\n",
       " 'Astronomical survey',\n",
       " 'Basic research',\n",
       " 'Ben Fry',\n",
       " 'Big data',\n",
       " 'Boston',\n",
       " 'Boston Globe',\n",
       " 'Business',\n",
       " 'Buzzword',\n",
       " 'C. F. Jeff Wu',\n",
       " 'Columbia University',\n",
       " 'Comet NEOWISE',\n",
       " 'Committee on Data for Science and Technology',\n",
       " 'Communication',\n",
       " 'Complex systems',\n",
       " 'Computational science',\n",
       " 'Computer science',\n",
       " 'DJ Patil',\n",
       " 'Data',\n",
       " 'Data (computing)',\n",
       " 'Data analysis',\n",
       " 'Data archaeology',\n",
       " 'Data augmentation',\n",
       " 'Data cleansing',\n",
       " 'Data collection',\n",
       " 'Data compression',\n",
       " 'Data corruption',\n",
       " 'Data curation',\n",
       " 'Data degradation',\n",
       " 'Data editing',\n",
       " 'Data extraction',\n",
       " 'Data farming',\n",
       " 'Data format management',\n",
       " 'Data fusion',\n",
       " 'Data integration',\n",
       " 'Data integrity',\n",
       " 'Data library',\n",
       " 'Data lineage',\n",
       " 'Data loading',\n",
       " 'Data loss',\n",
       " 'Data management',\n",
       " 'Data migration',\n",
       " 'Data mining',\n",
       " 'Data philanthropy',\n",
       " 'Data pre-processing',\n",
       " 'Data preservation',\n",
       " 'Data publishing',\n",
       " 'Data quality',\n",
       " 'Data recovery',\n",
       " 'Data reduction',\n",
       " 'Data retention',\n",
       " 'Data scraping',\n",
       " 'Data scrubbing',\n",
       " 'Data security',\n",
       " 'Data set',\n",
       " 'Data sonification',\n",
       " 'Data steward',\n",
       " 'Data storage',\n",
       " 'Data transformation',\n",
       " 'Data validation',\n",
       " 'Data visualization',\n",
       " 'Data warehouse',\n",
       " 'Data wrangling',\n",
       " 'Database',\n",
       " 'David Donoho',\n",
       " 'Distributed computing',\n",
       " 'Doi (identifier)',\n",
       " 'Domain knowledge',\n",
       " 'Empirical research',\n",
       " 'Exploration',\n",
       " 'Extract, load, transform',\n",
       " 'Extract, transform, load',\n",
       " 'Graphic design',\n",
       " 'Harvard Business Review',\n",
       " 'Human–computer interaction',\n",
       " 'ISBN (identifier)',\n",
       " 'ISSN (identifier)',\n",
       " 'Informatics',\n",
       " 'Information explosion',\n",
       " 'Information privacy',\n",
       " 'Information science',\n",
       " 'Information technology',\n",
       " 'Information visualization',\n",
       " 'Interdisciplinarity',\n",
       " 'Interdisciplinary',\n",
       " 'Jeff Hammerbacher',\n",
       " 'Jim Gray (computer scientist)',\n",
       " 'John Tukey',\n",
       " 'Knowledge',\n",
       " 'Machine learning',\n",
       " 'Mathematics',\n",
       " 'Montpellier 2 University',\n",
       " 'Nate Silver',\n",
       " 'Nathan Yau',\n",
       " 'National Science Board',\n",
       " 'New York City',\n",
       " 'New York Times',\n",
       " 'OCLC (identifier)',\n",
       " 'ODSC',\n",
       " 'PMID (identifier)',\n",
       " 'Peter Naur',\n",
       " 'Phenomena',\n",
       " 'Problem solving',\n",
       " 'S2CID (identifier)',\n",
       " 'Scientific Data (journal)',\n",
       " 'Scientific computing',\n",
       " 'Scientific method',\n",
       " 'Space telescope',\n",
       " 'Statistics',\n",
       " 'Thomas H. Davenport',\n",
       " 'Turing Award',\n",
       " 'Unstructured data',\n",
       " 'Vasant Dhar',\n",
       " 'Wide-field Infrared Survey Explorer',\n",
       " 'William S. Cleveland',\n",
       " 'Women in Data'}"
      ]
     },
     "execution_count": 28,
     "metadata": {},
     "output_type": "execute_result"
    }
   ],
   "source": [
    "(wp.page(\"data science\").links)\n"
   ]
  },
  {
   "cell_type": "code",
   "execution_count": 29,
   "metadata": {},
   "outputs": [
    {
     "name": "stdout",
     "output_type": "stream",
     "text": [
      "\u001b[1;31mInit signature:\u001b[0m \u001b[0mset\u001b[0m\u001b[1;33m(\u001b[0m\u001b[0mself\u001b[0m\u001b[1;33m,\u001b[0m \u001b[1;33m/\u001b[0m\u001b[1;33m,\u001b[0m \u001b[1;33m*\u001b[0m\u001b[0margs\u001b[0m\u001b[1;33m,\u001b[0m \u001b[1;33m**\u001b[0m\u001b[0mkwargs\u001b[0m\u001b[1;33m)\u001b[0m\u001b[1;33m\u001b[0m\u001b[1;33m\u001b[0m\u001b[0m\n",
      "\u001b[1;31mDocstring:\u001b[0m     \n",
      "set() -> new empty set object\n",
      "set(iterable) -> new set object\n",
      "\n",
      "Build an unordered collection of unique elements.\n",
      "\u001b[1;31mType:\u001b[0m           type\n",
      "\u001b[1;31mSubclasses:\u001b[0m     LazySet, LazySet, LazySet\n"
     ]
    }
   ],
   "source": [
    "set??"
   ]
  },
  {
   "cell_type": "code",
   "execution_count": 27,
   "metadata": {},
   "outputs": [
    {
     "data": {
      "text/plain": [
       "2.1"
      ]
     },
     "execution_count": 27,
     "metadata": {},
     "output_type": "execute_result"
    }
   ],
   "source": [
    "weight_test = 0.1\n",
    "link_test=wp.page(\"data science\").content.lower().count(\"algorithm\")\n",
    "weight_test += link_test\n",
    "\n",
    "weight_test"
   ]
  },
  {
   "cell_type": "code",
   "execution_count": 30,
   "metadata": {},
   "outputs": [],
   "source": [
    "#@title\n",
    "class RelationshipGenerator():\n",
    "    \"\"\"Generates relationships between terms, based on wikipedia links\"\"\"\n",
    "\n",
    "    def __init__(self):\n",
    "        \"\"\"Links are directional, start + end, they should also have a weight\"\"\"\n",
    "        self.links = []  # [start, end, weight]\n",
    "\n",
    "    def scan(self, start=None, repeat=0):\n",
    "        \"\"\"Start scanning from a specific word, or from internal database\n",
    "        \n",
    "        Args:\n",
    "            start (str): the term to start searching from, can be None to let\n",
    "                algorithm decide where to start\n",
    "            repeat (int): the number of times to repeat the scan\n",
    "        \"\"\"\n",
    "        while repeat >= 0:\n",
    "\n",
    "            # should check if start page exists\n",
    "            # and haven't already scanned\n",
    "            if start in [l[0] for l in self.links]:\n",
    "                raise Exception(\"Already scanned\")\n",
    "\n",
    "            term_search = True if start is not None else False\n",
    "\n",
    "            # If a start isn't defined, we should find one\n",
    "            if start is None:\n",
    "                start = self.find_starting_point()\n",
    "\n",
    "            # Scan the starting point specified for links\n",
    "            print(f\"Scanning page {start}...\")\n",
    "            try:\n",
    "                # Fetch the page through the Wikipedia API\n",
    "                page = wp.page(start)\n",
    "                links = list(set(page.links))\n",
    "                # ignore some uninteresting terms\n",
    "                links = [l for l in links if not self.ignore_term(l)]\n",
    "\n",
    "                # Add links to database\n",
    "                link_weights = []\n",
    "                for link in links:\n",
    "                    weight = self.weight_link(page, link)\n",
    "                    link_weights.append(weight)\n",
    "\n",
    "                # Summarise the weights, so that the highest weight is 1, and the lowest is 0\n",
    "                link_weights = [w / max(link_weights) for w in link_weights]\n",
    "\n",
    "                for i, link in enumerate(links):\n",
    "                    # +3 vs +1 works pretty well in providing weightage to the summary terms\n",
    "                    self.links.append(\n",
    "                        [start, link.lower(), link_weights[i] + 2 * int(term_search)])\n",
    "\n",
    "                # Print some data to the user on progress\n",
    "                explored_nodes = set([l[0] for l in self.links])\n",
    "                explored_nodes_count = len(explored_nodes)\n",
    "                total_nodes = set([l[1] for l in self.links])\n",
    "                total_nodes_count = len(total_nodes)\n",
    "                new_nodes = [l.lower() for l in links if l not in total_nodes]\n",
    "                new_nodes_count = len(new_nodes)\n",
    "                print(\n",
    "                    f\"New nodes added: {new_nodes_count}, Total Nodes: {total_nodes_count}, Explored Nodes: {explored_nodes_count}\")\n",
    "\n",
    "            except (DisambiguationError, PageError):\n",
    "                # This happens if the page has disambiguation or doesn't exist\n",
    "                # We just ignore the page for now, could improve this\n",
    "                self.links.append([start, \"DISAMBIGUATION\", 0])\n",
    "\n",
    "            repeat -= 1\n",
    "            start = None\n",
    "\n",
    "    def find_starting_point(self):\n",
    "        \"\"\"Find the best place to start when no input is given\"\"\"\n",
    "        # Need some links to work with.\n",
    "        if len(self.links) == 0:\n",
    "            raise Exception(\n",
    "                \"Unable to start, no start defined or existing links\")\n",
    "\n",
    "        # Get top terms\n",
    "        res = self.rank_terms()\n",
    "        sorted_links = list(zip(res.index, res.values))\n",
    "        all_starts = set([l[0] for l in self.links])\n",
    "\n",
    "        # Remove identifiers (these are on many Wikipedia pages)\n",
    "        all_starts = [l for l in all_starts if '(identifier)' not in l]\n",
    "\n",
    "        # print(sorted_links[:10])\n",
    "        # Iterate over the top links, until we find a new one\n",
    "        for i in range(len(sorted_links)):\n",
    "            if sorted_links[i][0] not in all_starts and len(sorted_links[i][0]) > 0:\n",
    "                return sorted_links[i][0]\n",
    "\n",
    "        # no link found\n",
    "        raise Exception(\"No starting point found within links\")\n",
    "        return\n",
    "\n",
    "    @staticmethod\n",
    "    def weight_link(page, link):\n",
    "        \"\"\"Weight an outgoing link for a given source page\n",
    "        \n",
    "        Args:\n",
    "            page (obj): \n",
    "            link (str): the outgoing link of interest\n",
    "        \n",
    "        Returns:\n",
    "            (float): the weight, for each link\n",
    "        \"\"\"\n",
    "        weight = 0.1\n",
    "\n",
    "        link_counts = page.content.lower().count(link.lower())\n",
    "        weight += link_counts\n",
    "\n",
    "        if link.lower() in page.summary.lower():\n",
    "            weight += 3\n",
    "\n",
    "        return weight\n",
    "\n",
    "    def get_database(self):\n",
    "        return sorted(self.links, key=lambda x: -x[2])\n",
    "\n",
    "    def rank_terms(self, with_start=False):\n",
    "        # We can use graph theory here!\n",
    "        # tws = [l[1:] for l in self.links]\n",
    "        df = pd.DataFrame(self.links, columns=[\"start\", \"end\", \"weight\"])\n",
    "\n",
    "        if with_start:\n",
    "            df = df.append(df.rename(columns={\"end\": \"start\", \"start\": \"end\"}))\n",
    "\n",
    "        return df.groupby(\"end\").weight.sum().sort_values(ascending=False)\n",
    "\n",
    "    def get_key_terms(self, n=20):\n",
    "        return \"'\" + \"', '\".join([t for t in self.rank_terms().head(n).index.tolist() if \"(identifier)\" not in t]) + \"'\"\n",
    "\n",
    "    @staticmethod\n",
    "    def ignore_term(term):\n",
    "        \"\"\"List of terms to ignore\"\"\"\n",
    "        if \"(identifier)\" in term or term == \"doi\":\n",
    "            return True\n",
    "        return False\n"
   ]
  },
  {
   "cell_type": "code",
   "execution_count": 12,
   "metadata": {},
   "outputs": [],
   "source": [
    "#@title\n",
    "def simplify_graph(rg, max_nodes=1000):\n",
    "    \"\"\"Simplify a graph which has many nodes\n",
    "    \n",
    "    Remove items with low total weights\n",
    "    This is an alterantive to restricted_view in networkx.\n",
    "    \n",
    "    Args:\n",
    "        rg (RelationshipGenerator): object containing knowledge graph\n",
    "        max_nodes (float): the number of nodes to search, or percentage of nodes\n",
    "            to keep\n",
    "    \n",
    "    Returns:\n",
    "        (RelationshipGenerator): simplified knowledge graph\n",
    "    \"\"\"\n",
    "    # Get most interesting terms.\n",
    "    nodes = rg.rank_terms()\n",
    "\n",
    "    # Get nodes to keep\n",
    "    if max_nodes >= 1:\n",
    "        keep_nodes = nodes.head(max_nodes).index.tolist()\n",
    "    elif max_nodes >= 0:\n",
    "        keep_nodes = nodes.head(int(max_nodes * len(nodes))).index.tolist()\n",
    "\n",
    "    # Filter list of nodes so that there are no nodes outside those of interest\n",
    "    filtered_links = list(filter(lambda x: x[1] in keep_nodes, rg.links))\n",
    "    filtered_links = list(filter(lambda x: x[0] in keep_nodes, filtered_links))\n",
    "\n",
    "    # Define a new object and define its dictionary\n",
    "    ac = RelationshipGenerator()\n",
    "    ac.links = filtered_links\n",
    "\n",
    "    return ac\n"
   ]
  },
  {
   "cell_type": "code",
   "execution_count": 31,
   "metadata": {},
   "outputs": [
    {
     "name": "stdout",
     "output_type": "stream",
     "text": [
      "Scanning page data science...\n",
      "New nodes added: 114, Total Nodes: 114, Explored Nodes: 1\n",
      "Scanning page data analysis...\n",
      "New nodes added: 257, Total Nodes: 317, Explored Nodes: 2\n",
      "Scanning page artificial intelligence...\n",
      "New nodes added: 1474, Total Nodes: 1766, Explored Nodes: 3\n"
     ]
    }
   ],
   "source": [
    "rg = RelationshipGenerator()\n",
    "rg.scan(\"data science\")\n",
    "rg.scan(\"data analysis\")\n",
    "rg.scan(\"artificial intelligence\")\n"
   ]
  },
  {
   "cell_type": "code",
   "execution_count": 32,
   "metadata": {},
   "outputs": [
    {
     "name": "stdout",
     "output_type": "stream",
     "text": [
      "Scanning page data...\n"
     ]
    },
    {
     "name": "stderr",
     "output_type": "stream",
     "text": [
      "c:\\Users\\Pravin Vijay\\.conda\\envs\\py3.9\\lib\\site-packages\\wikipedia\\wikipedia.py:389: GuessedAtParserWarning: No parser was explicitly specified, so I'm using the best available HTML parser for this system (\"lxml\"). This usually isn't a problem, but if you run this code on another system, or in a different virtual environment, it may use a different parser and behave differently.\n",
      "\n",
      "The code that caused this warning is on line 389 of the file c:\\Users\\Pravin Vijay\\.conda\\envs\\py3.9\\lib\\site-packages\\wikipedia\\wikipedia.py. To get rid of this warning, pass the additional argument 'features=\"lxml\"' to the BeautifulSoup constructor.\n",
      "\n",
      "  lis = BeautifulSoup(html).find_all('li')\n"
     ]
    },
    {
     "name": "stdout",
     "output_type": "stream",
     "text": [
      "Scanning page ai...\n"
     ]
    },
    {
     "name": "stderr",
     "output_type": "stream",
     "text": [
      "c:\\Users\\Pravin Vijay\\.conda\\envs\\py3.9\\lib\\site-packages\\wikipedia\\wikipedia.py:389: GuessedAtParserWarning: No parser was explicitly specified, so I'm using the best available HTML parser for this system (\"lxml\"). This usually isn't a problem, but if you run this code on another system, or in a different virtual environment, it may use a different parser and behave differently.\n",
      "\n",
      "The code that caused this warning is on line 389 of the file c:\\Users\\Pravin Vijay\\.conda\\envs\\py3.9\\lib\\site-packages\\wikipedia\\wikipedia.py. To get rid of this warning, pass the additional argument 'features=\"lxml\"' to the BeautifulSoup constructor.\n",
      "\n",
      "  lis = BeautifulSoup(html).find_all('li')\n"
     ]
    },
    {
     "name": "stdout",
     "output_type": "stream",
     "text": [
      "Scanning page intelligence...\n",
      "New nodes added: 273, Total Nodes: 1911, Explored Nodes: 6\n",
      "Scanning page human...\n",
      "New nodes added: 295, Total Nodes: 2202, Explored Nodes: 7\n",
      "Scanning page men...\n"
     ]
    },
    {
     "name": "stderr",
     "output_type": "stream",
     "text": [
      "c:\\Users\\Pravin Vijay\\.conda\\envs\\py3.9\\lib\\site-packages\\wikipedia\\wikipedia.py:389: GuessedAtParserWarning: No parser was explicitly specified, so I'm using the best available HTML parser for this system (\"lxml\"). This usually isn't a problem, but if you run this code on another system, or in a different virtual environment, it may use a different parser and behave differently.\n",
      "\n",
      "The code that caused this warning is on line 389 of the file c:\\Users\\Pravin Vijay\\.conda\\envs\\py3.9\\lib\\site-packages\\wikipedia\\wikipedia.py. To get rid of this warning, pass the additional argument 'features=\"lxml\"' to the BeautifulSoup constructor.\n",
      "\n",
      "  lis = BeautifulSoup(html).find_all('li')\n"
     ]
    },
    {
     "name": "stdout",
     "output_type": "stream",
     "text": [
      "Scanning page knowledge...\n",
      "New nodes added: 858, Total Nodes: 2835, Explored Nodes: 9\n",
      "Scanning page belief...\n"
     ]
    },
    {
     "name": "stderr",
     "output_type": "stream",
     "text": [
      "c:\\Users\\Pravin Vijay\\.conda\\envs\\py3.9\\lib\\site-packages\\wikipedia\\wikipedia.py:389: GuessedAtParserWarning: No parser was explicitly specified, so I'm using the best available HTML parser for this system (\"lxml\"). This usually isn't a problem, but if you run this code on another system, or in a different virtual environment, it may use a different parser and behave differently.\n",
      "\n",
      "The code that caused this warning is on line 389 of the file c:\\Users\\Pravin Vijay\\.conda\\envs\\py3.9\\lib\\site-packages\\wikipedia\\wikipedia.py. To get rid of this warning, pass the additional argument 'features=\"lxml\"' to the BeautifulSoup constructor.\n",
      "\n",
      "  lis = BeautifulSoup(html).find_all('li')\n"
     ]
    },
    {
     "name": "stdout",
     "output_type": "stream",
     "text": [
      "Scanning page reason...\n",
      "New nodes added: 712, Total Nodes: 3540, Explored Nodes: 11\n",
      "Scanning page region...\n",
      "Scanning page experience...\n",
      "New nodes added: 699, Total Nodes: 3791, Explored Nodes: 13\n",
      "Scanning page concept...\n"
     ]
    },
    {
     "name": "stderr",
     "output_type": "stream",
     "text": [
      "c:\\Users\\Pravin Vijay\\.conda\\envs\\py3.9\\lib\\site-packages\\wikipedia\\wikipedia.py:389: GuessedAtParserWarning: No parser was explicitly specified, so I'm using the best available HTML parser for this system (\"lxml\"). This usually isn't a problem, but if you run this code on another system, or in a different virtual environment, it may use a different parser and behave differently.\n",
      "\n",
      "The code that caused this warning is on line 389 of the file c:\\Users\\Pravin Vijay\\.conda\\envs\\py3.9\\lib\\site-packages\\wikipedia\\wikipedia.py. To get rid of this warning, pass the additional argument 'features=\"lxml\"' to the BeautifulSoup constructor.\n",
      "\n",
      "  lis = BeautifulSoup(html).find_all('li')\n"
     ]
    }
   ],
   "source": [
    "rg.scan(repeat=10)\n"
   ]
  },
  {
   "cell_type": "code",
   "execution_count": 33,
   "metadata": {},
   "outputs": [
    {
     "name": "stdout",
     "output_type": "stream",
     "text": [
      "The graph has 3791 terms and 4688 connections.\n",
      "\n",
      "\n"
     ]
    },
    {
     "data": {
      "text/plain": [
       "end\n",
       "data         2.148315\n",
       "knowledge    1.492631\n",
       "human        1.280212\n",
       "concept      1.081733\n",
       "emotion      1.008166\n",
       "region       1.000000\n",
       "men          1.000000\n",
       "conscious    1.000000\n",
       "belief       1.000000\n",
       "ai           1.000000\n",
       "Name: weight, dtype: float64"
      ]
     },
     "execution_count": 33,
     "metadata": {},
     "output_type": "execute_result"
    }
   ],
   "source": [
    "print(\n",
    "    f\"The graph has {rg.rank_terms().shape[0]} terms and {len(rg.links)} connections.\\n\\n\")\n",
    "\n",
    "rg.rank_terms().head(10)\n"
   ]
  },
  {
   "cell_type": "code",
   "execution_count": 20,
   "metadata": {},
   "outputs": [],
   "source": [
    "#@title\n",
    "def remove_self_references(l):\n",
    "    return [i for i in l if i[0] != i[1]]\n",
    "\n",
    "\n",
    "def add_focus_point(links, focus=\"on me\", focus_factor=3):\n",
    "    for i, link in enumerate(links):\n",
    "        if not (focus in link[0] or focus in link[1]):\n",
    "            links[i] = [link[0], link[1], link[2] / focus_factor]\n",
    "        else:\n",
    "            links[i] = [link[0], link[1], link[2] * focus_factor]\n",
    "\n",
    "    return links\n",
    "\n",
    "\n",
    "def create_graph(rg, focus=None):\n",
    "\n",
    "    links = rg.links\n",
    "    links = remove_self_references(links)\n",
    "    if focus is not None:\n",
    "        links = add_focus_point(links, focus)\n",
    "\n",
    "    node_data = rg.rank_terms()\n",
    "    nodes = node_data.index.tolist()\n",
    "    node_weights = node_data.values.tolist()\n",
    "    node_weights = [nw * 100 for nw in node_weights]\n",
    "    nodelist = nodes\n",
    "\n",
    "    G = nx.DiGraph()  # MultiGraph()\n",
    "\n",
    "    # G.add_node()\n",
    "    G.add_nodes_from(nodes)\n",
    "\n",
    "    # Add edges\n",
    "    G.add_weighted_edges_from(links)\n",
    "\n",
    "    # positions for all nodes - seed for reproducibility\n",
    "    pos = nx.spring_layout(G, k=1, seed=7)\n",
    "\n",
    "    fig = plt.figure(figsize=(12, 12))\n",
    "\n",
    "    nx.draw_networkx_nodes(\n",
    "        G, pos,\n",
    "        nodelist=nodelist,\n",
    "        node_size=node_weights,\n",
    "        node_color='lightblue',\n",
    "        alpha=0.7\n",
    "    )\n",
    "\n",
    "    widths = nx.get_edge_attributes(G, 'weight')\n",
    "    nx.draw_networkx_edges(\n",
    "        G, pos,\n",
    "        edgelist=widths.keys(),\n",
    "        width=list(widths.values()),\n",
    "        edge_color='lightblue',\n",
    "        alpha=0.6\n",
    "    )\n",
    "\n",
    "    nx.draw_networkx_labels(G, pos=pos,\n",
    "                            labels=dict(zip(nodelist, nodelist)),\n",
    "                            font_color='black')\n",
    "\n",
    "    \"\"\"nx.draw(\n",
    "        G,\n",
    "        nodelist=nodes,\n",
    "        node_size=node_weights,\n",
    "        with_labels=True,\n",
    "    )\n",
    "\"\"\"\n",
    "    # plt.box(False)\n",
    "    plt.show()\n",
    "\n",
    "# create_graph(ng)\n"
   ]
  },
  {
   "cell_type": "code",
   "execution_count": 34,
   "metadata": {},
   "outputs": [
    {
     "data": {
      "image/png": "[encoded data removed]",
      "text/plain": [
       "<Figure size 1200x1200 with 1 Axes>"
      ]
     },
     "metadata": {},
     "output_type": "display_data"
    }
   ],
   "source": [
    "ng = simplify_graph(rg, 20)\n",
    "\n",
    "create_graph(ng)\n"
   ]
  },
  {
   "cell_type": "code",
   "execution_count": null,
   "metadata": {},
   "outputs": [],
   "source": []
  }
 ],
 "metadata": {
  "kernelspec": {
   "display_name": "py3.9",
   "language": "python",
   "name": "python3"
  },
  "language_info": {
   "codemirror_mode": {
    "name": "ipython",
    "version": 3
   },
   "file_extension": ".py",
   "mimetype": "text/x-python",
   "name": "python",
   "nbconvert_exporter": "python",
   "pygments_lexer": "ipython3",
   "version": "3.9.13 | packaged by conda-forge | (main, May 27 2022, 16:51:29) [MSC v.1929 64 bit (AMD64)]"
  },
  "orig_nbformat": 4,
  "vscode": {
   "interpreter": {
    "hash": "388f5e98826a2d84f3578e0ad633719a4de2ef9aac86a00e0947924129d85167"
   }
  }
 },
 "nbformat": 4,
 "nbformat_minor": 2
}
